{
 "cells": [
  {
   "cell_type": "code",
   "execution_count": 26,
   "metadata": {
    "collapsed": false
   },
   "outputs": [
    {
     "data": {
      "text/plain": [
       "<matplotlib.axes._subplots.AxesSubplot at 0x1166986a0>"
      ]
     },
     "execution_count": 26,
     "metadata": {},
     "output_type": "execute_result"
    },
    {
     "data": {
      "image/png": "[encoded data removed]",
      "text/plain": [
       "<Figure size 432x288 with 1 Axes>"
      ]
     },
     "metadata": {},
     "output_type": "display_data"
    }
   ],
   "source": [
    "import pandas as pd\n",
    "import matplotlib.pyplot as plt\n",
    "\n",
    "plt.close('all')\n",
    "\n",
    "df = pd.read_csv('two_features.data', sep=\"\\t\")\n",
    "df.plot.scatter(x='Latency (ms)', y='Throughput (mb/s)', s=3)"
   ]
  },
  {
   "cell_type": "code",
   "execution_count": 84,
   "metadata": {},
   "outputs": [],
   "source": [
    "mean = df.mean()\n",
    "variance = df.var()"
   ]
  },
  {
   "cell_type": "code",
   "execution_count": 102,
   "metadata": {
    "collapsed": false
   },
   "outputs": [
    {
     "name": "stdout",
     "output_type": "stream",
     "text": [
      "0.22523530045296383\n[0.21607521 0.29881565]\n[0.25714558 0.19535724]\n[0.29365463 0.24608896]\n[0.24695025 0.20346921]\n[0.27214062 0.23351484]\n"
     ]
    }
   ],
   "source": [
    "from math import exp, sqrt, pi\n",
    "import numpy as np\n",
    "\n",
    "\n",
    "def cal_possibility(x, mean, variance):\n",
    "    return 1 / sqrt(2 * pi * variance) * \\\n",
    "        exp(-(x - mean) ** 2 / (2 * variance))\n",
    "\n",
    "\n",
    "def cal_possibility_np(x, mean, variance):\n",
    "    return 1 / np.sqrt(2 * np.pi * variance) * \\\n",
    "        np.exp(-(x - mean) ** 2 / (2 * variance))\n",
    "\n",
    "\n",
    "# print(cal_possibility(15, 14, 1.8))\n",
    "print(cal_possibility_np(15, 14, 1.8))\n",
    "\n",
    "# Q: 为什么计算的时候要使用 numpy？\n",
    "# A: 因为 math 库没法做到向量运算，e.g. sqrt → np.sqrt\n",
    "\n",
    "# Q: 为什么最大的概率不是100%？\n",
    "# A: 因为正态分布的整体的**积分面积**为1，只不过宽窄高低不同罢了，所以y轴并不代表概率，最大值也就不是 100%\n",
    "\n",
    "mean = np.array(mean)\n",
    "variance = np.array(variance)\n",
    "\n",
    "\n",
    "for x in df.values[:5]:\n",
    "    print(cal_possibility_np(x, mean, variance))\n",
    "\n",
    "# Q: 得到的是 feat1 和 feat2 对应的两个概率， 如何归为一个？\n",
    "# A: matlab 的代码没看懂，看了数据对比。"
   ]
  },
  {
   "cell_type": "code",
   "execution_count": null,
   "metadata": {},
   "outputs": [],
   "source": []
  }
 ],
 "metadata": {
  "kernelspec": {
   "display_name": "Python 3",
   "language": "python",
   "name": "python3"
  },
  "language_info": {
   "codemirror_mode": {
    "name": "ipython",
    "version": 3
   },
   "file_extension": ".py",
   "mimetype": "text/x-python",
   "name": "python",
   "nbconvert_exporter": "python",
   "pygments_lexer": "ipython3",
   "version": "3.5.0"
  }
 },
 "nbformat": 4,
 "nbformat_minor": 2
}
